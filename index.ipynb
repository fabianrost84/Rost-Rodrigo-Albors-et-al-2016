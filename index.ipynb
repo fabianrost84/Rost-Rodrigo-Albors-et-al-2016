{
 "cells": [
  {
   "cell_type": "markdown",
   "metadata": {},
   "source": [
    "# Acceleration of the cell cycle drives the outgrowth of the regenerating spinal cord in axolotls\n",
    "\n",
    "Fabian Rost<sup>1†</sup>, Aida Rodrigo Albors<sup>*2,3,4†</sup>, Vladimir Mazurov<sup>3,4</sup>, Lutz Brusch<sup>1</sup>, Andreas Deutsch<sup>1</sup>, Elly M. Tanaka<sup>3,4‡*</sup> and Osvaldo Chara<sup>1,5‡*</sup>\n",
    "\n",
    "<sup>1</sup> Center for Information Services and High Performance Computing, Technische Universität Dresden, Dresden, Germany<br>\n",
    "<sup>2</sup>Division of Cell & Developmental Biology, School of Life Sciences, University of Dundee, Dundee, United Kingdom<br>\n",
    "<sup>3</sup> Deutsche Forschungsgemeinschaft – Center for Regenerative Therapies Dresden, Dresden, Germany<br>\n",
    "<sup>4</sup> Max Planck Institute of Molecular Cell Biology and Genetics, Dresden, Germany<br>\n",
    "<sup>5</sup> Systems Biology Group (SysBio), Institute of Physics of Liquids and Biological Systems, National Scientific and Technical Research Council (CONICET) and University of La Plata, La Plata, Argentina<br>\n",
    "\n",
    "<sup>†</sup> Co-first authorship\n",
    "<sup>‡</sup> Co-last authorship\n",
    "<sup>\\*</sup> Corresponding authors\n",
    "\n",
    "Corresponding authors:\n",
    "\n",
    "Osvaldo Chara<br>\n",
    "Center for Information Services and High Performance Computing, Technische Universität Dresden,\n",
    "Nöthnitzer Straße 46, 01187 Dresden, Germany<br>\n",
    "Tel. +49 351 463-38780<br>\n",
    "E-mail: osvaldo.chara@tu-dresden.de<br>\n",
    "\n",
    "Systems Biology Group (SysBio), Institute of Physics of Liquids and Biological Systems (IFLySIB), National Scientific and Technical Research Council (CONICET) and University of La Plata<br>\n",
    "Calle 59 N 789, 1900 La Plata, Argentina<br>\n",
    "Tel. +54 221 4233283 Ext: 26<br>\n",
    "E-mail: ochara@iflysib.unlp.edu.ar\n",
    "\n",
    "Elly Tanaka<br>\n",
    "CRTD<br>\n",
    "Fetscherstraβe 105, 01307 Dresden, Germany<br>\n",
    "Tel. +49 351 458-82000<br>\n",
    "Fax +49 351 458-82009<br>\n",
    "E-mail: elly.tanaka@crt-dresden.de\n",
    "\n",
    "## Introduction\n",
    "These notebook were used to perform data analysis presented in Rost et al., in preparation. It contains all the data and the code for the data analysis. \n",
    "The code is only partly documented. If you have questions concerning the code, please contact the authors.\n",
    "\n",
    "Please also make sure you visited https://github.com/fabianrost84/Rost-Rodrigo-Albors-et-al-2016 to make sure you have the latest version of the notebooks and for getting instructions how to view them and/or get them running.\n",
    "\n",
    "## Dependencies\n",
    "The notebooks depend on the python modules below. Python 2.7 was used. If the import works, the notebooks should hopefully work. The repository also contains an `environment.yml` file which can be used with conda to set up a working python environment."
   ]
  },
  {
   "cell_type": "code",
   "execution_count": 1,
   "metadata": {
    "collapsed": false
   },
   "outputs": [
    {
     "name": "stderr",
     "output_type": "stream",
     "text": [
      "/home/fabian/anaconda2/lib/python2.7/site-packages/IPython/config.py:13: ShimWarning: The `IPython.config` package has been deprecated. You should import from traitlets.config instead.\n",
      "  \"You should import from traitlets.config instead.\", ShimWarning)\n",
      "/home/fabian/anaconda2/lib/python2.7/site-packages/IPython/utils/traitlets.py:5: UserWarning: IPython.utils.traitlets has moved to a top-level traitlets package.\n",
      "  warn(\"IPython.utils.traitlets has moved to a top-level traitlets package.\")\n"
     ]
    }
   ],
   "source": [
    "%load_ext ipycache\n",
    "import cloudpickle\n",
    "import collections\n",
    "import datetime\n",
    "import functools\n",
    "import gc\n",
    "import iminuit\n",
    "import pandas as pd\n",
    "import matplotlib as mpl\n",
    "import matplotlib.pyplot as plt\n",
    "import matplotlib.gridspec as gridspec\n",
    "from matplotlib import ticker\n",
    "%matplotlib inline\n",
    "%config InlineBackend.figure_format = 'svg'\n",
    "import os\n",
    "import multiprocessing\n",
    "import numba\n",
    "import probfit\n",
    "import pymc\n",
    "import tables\n",
    "import random\n",
    "import scipy as sp\n",
    "from scipy import stats\n",
    "import scipy.optimize\n",
    "import shutil\n",
    "from uncertainties import ufloat\n",
    "import warnings"
   ]
  },
  {
   "cell_type": "markdown",
   "metadata": {},
   "source": [
    "## List of notebooks\n",
    "\n",
    "* [Outgrowth](calculations/outgrowth.ipynb):\n",
    "    * caclualtion of the mean outgrowth dynamics for Fig. 1B\n",
    "* [Constant density](calculations/spatial_analysis/constant_density.ipynb)\n",
    "    * performing tests described in Materials and methods section \"Testing for spatial dependence of SOX2+ cell counts\"\n",
    "    * Fig. 2B,B',C\n",
    "* [simulation_spatial_model](calculations/spatial_analysis/simulation_spatial_model.ipynb):\n",
    "    * Fig. 2 - figure supplement 2\n",
    "* [spatial_model_sketch](calculations/spatial_analysis/spatial_model_sketch.ipynb):\n",
    "    * Fig. 2E'\n",
    "* [step_model_fixed_density_fit_per_timepoint](calculations/spatial_analysis/step_model_fixed_density_fit_per_timepoint.ipynb):\n",
    "    * fitting the model of two zones of proliferation to the cell count data \n",
    "* [step_model_fixed_density_visualize_fit_results_per_timepoint_constant_density](calculations/spatial_analysis/step_model_fixed_density_visualize_fit_results_per_timepoint_constant_density.ipynb):\n",
    "    * visualization of the above fit results\n",
    "    * Fig. 2D,D',F-F'', Figure 2 - figure supplement 1, Figure 2 - figure supplement 3, Figure 2 - figure supplement 4\n",
    "* [step_model_fixed_density_fit_per_timepoint_for_hpc_1e7.py](calculations/spatial_analysis/step_model_fixed_density_fit_per_timepoint_for_hpc_1e7.py):\n",
    "    * python file used to run the spatial model fit on the TU Dresden HPC\n",
    "* [cell_cycle_length_kinetics](calculations/cell_cycle_length_kinetics.ipynb):\n",
    "    * calculation of proliferation rate time course in high-proliferation zone\n",
    "    * Fig. 2G, Figure 2 - figure supplement 5\n",
    "* [number_quiescent_cells](calculations/number_quiescent_cells.ipynb):\n",
    "    * calculation of time course of the total number of SOX2<sup>+</sup>/PCNA<sup>-</sup> cells in the high proliferation zone\n",
    "    * Fig. 2H\n",
    "* [clone_velocities](calculations/clone_velocities/clone_velocities.ipynb):\n",
    "    * calculation of the clone velocities from the trajectories\n",
    "    * Fig. 2J,K\n",
    "* [brdu_bootstrapping_day6](calculations/brdu_bootstrapping_day6.ipynb):\n",
    "    * estimating the cell cycle length at day 6 using bootstrapping with a case resampling scheme. Data and model used for this were described in Rodrigo Albors et al., 2015\n",
    "* [lg_model](calculations/lg_model/lg_model.ipynb):\n",
    "    * numerical implementation of the mechanistic model of spinal cord outgrowth (Equations (1) & (2))\n",
    "* [plot_lg_model_results](calculations/lg_model/plot_lg_model_results.ipynb):    \n",
    "    * Fig. 3B-G, Fig. 3 - figure supplement 1\n",
    "\n",
    "# References\n",
    "\n",
    "Rodrigo Albors, A., Tazaki, A., Rost, F., Nowoshilow, S., Chara, O., & Tanaka, E. M. (2015). *Planar cell polarity-mediated induction of neural stem cell expansion during axolotl spinal cord regeneration.* eLife, e10230. http://doi.org/10.7554/eLife.10230"
   ]
  },
  {
   "cell_type": "code",
   "execution_count": null,
   "metadata": {
    "collapsed": true
   },
   "outputs": [],
   "source": []
  }
 ],
 "metadata": {
  "kernelspec": {
   "display_name": "Python 2",
   "language": "python",
   "name": "python2"
  },
  "language_info": {
   "codemirror_mode": {
    "name": "ipython",
    "version": 2
   },
   "file_extension": ".py",
   "mimetype": "text/x-python",
   "name": "python",
   "nbconvert_exporter": "python",
   "pygments_lexer": "ipython2",
   "version": "2.7.11"
  },
  "toc": {
   "nav_menu": {
    "height": "121px",
    "width": "252px"
   },
   "navigate_menu": true,
   "number_sections": true,
   "sideBar": true,
   "threshold": 4,
   "toc_cell": false,
   "toc_section_display": "block",
   "toc_window_display": false
  }
 },
 "nbformat": 4,
 "nbformat_minor": 0
}
